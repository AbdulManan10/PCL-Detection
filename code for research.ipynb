{
 "cells": [
  {
   "cell_type": "code",
   "execution_count": 1,
   "metadata": {},
   "outputs": [
    {
     "name": "stdout",
     "output_type": "stream",
     "text": [
      "Requirement already satisfied: tensorflow in c:\\anaconda\\lib\\site-packages (2.9.1)\n",
      "Requirement already satisfied: numpy>=1.20 in c:\\anaconda\\lib\\site-packages (from tensorflow) (1.22.3)\n",
      "Requirement already satisfied: tensorflow-io-gcs-filesystem>=0.23.1 in c:\\anaconda\\lib\\site-packages (from tensorflow) (0.25.0)\n",
      "Requirement already satisfied: opt-einsum>=2.3.2 in c:\\anaconda\\lib\\site-packages (from tensorflow) (3.3.0)\n",
      "Requirement already satisfied: tensorboard<2.10,>=2.9 in c:\\anaconda\\lib\\site-packages (from tensorflow) (2.9.0)\n",
      "Requirement already satisfied: wrapt>=1.11.0 in c:\\anaconda\\lib\\site-packages (from tensorflow) (1.11.2)\n",
      "Requirement already satisfied: termcolor>=1.1.0 in c:\\anaconda\\lib\\site-packages (from tensorflow) (1.1.0)\n",
      "Requirement already satisfied: grpcio<2.0,>=1.24.3 in c:\\anaconda\\lib\\site-packages (from tensorflow) (1.46.1)\n",
      "Requirement already satisfied: typing-extensions>=3.6.6 in c:\\anaconda\\lib\\site-packages (from tensorflow) (3.7.4.3)\n",
      "Requirement already satisfied: six>=1.12.0 in c:\\anaconda\\lib\\site-packages (from tensorflow) (1.15.0)\n",
      "Requirement already satisfied: tensorflow-estimator<2.10.0,>=2.9.0rc0 in c:\\anaconda\\lib\\site-packages (from tensorflow) (2.9.0)\n",
      "Requirement already satisfied: protobuf<3.20,>=3.9.2 in c:\\anaconda\\lib\\site-packages (from tensorflow) (3.19.1)\n",
      "Requirement already satisfied: keras<2.10.0,>=2.9.0rc0 in c:\\anaconda\\lib\\site-packages (from tensorflow) (2.9.0)\n",
      "Requirement already satisfied: keras-preprocessing>=1.1.1 in c:\\anaconda\\lib\\site-packages (from tensorflow) (1.1.2)\n",
      "Requirement already satisfied: flatbuffers<2,>=1.12 in c:\\anaconda\\lib\\site-packages (from tensorflow) (1.12)\n",
      "Requirement already satisfied: h5py>=2.9.0 in c:\\anaconda\\lib\\site-packages (from tensorflow) (2.10.0)\n",
      "Requirement already satisfied: absl-py>=1.0.0 in c:\\anaconda\\lib\\site-packages (from tensorflow) (1.0.0)\n",
      "Requirement already satisfied: astunparse>=1.6.0 in c:\\anaconda\\lib\\site-packages (from tensorflow) (1.6.3)\n",
      "Requirement already satisfied: libclang>=13.0.0 in c:\\anaconda\\lib\\site-packages (from tensorflow) (14.0.1)\n",
      "Requirement already satisfied: packaging in c:\\anaconda\\lib\\site-packages (from tensorflow) (20.4)\n",
      "Requirement already satisfied: gast<=0.4.0,>=0.2.1 in c:\\anaconda\\lib\\site-packages (from tensorflow) (0.4.0)\n",
      "Requirement already satisfied: google-pasta>=0.1.1 in c:\\anaconda\\lib\\site-packages (from tensorflow) (0.2.0)\n",
      "Requirement already satisfied: setuptools in c:\\anaconda\\lib\\site-packages (from tensorflow) (50.3.1.post20201107)\n",
      "Requirement already satisfied: google-auth-oauthlib<0.5,>=0.4.1 in c:\\anaconda\\lib\\site-packages (from tensorboard<2.10,>=2.9->tensorflow) (0.4.6)\n",
      "Requirement already satisfied: markdown>=2.6.8 in c:\\anaconda\\lib\\site-packages (from tensorboard<2.10,>=2.9->tensorflow) (3.3.7)\n",
      "Requirement already satisfied: wheel>=0.26 in c:\\anaconda\\lib\\site-packages (from tensorboard<2.10,>=2.9->tensorflow) (0.35.1)\n",
      "Requirement already satisfied: tensorboard-data-server<0.7.0,>=0.6.0 in c:\\anaconda\\lib\\site-packages (from tensorboard<2.10,>=2.9->tensorflow) (0.6.1)\n",
      "Requirement already satisfied: werkzeug>=1.0.1 in c:\\anaconda\\lib\\site-packages (from tensorboard<2.10,>=2.9->tensorflow) (1.0.1)\n",
      "Requirement already satisfied: google-auth<3,>=1.6.3 in c:\\anaconda\\lib\\site-packages (from tensorboard<2.10,>=2.9->tensorflow) (1.28.0)\n",
      "Requirement already satisfied: tensorboard-plugin-wit>=1.6.0 in c:\\anaconda\\lib\\site-packages (from tensorboard<2.10,>=2.9->tensorflow) (1.8.1)\n",
      "Requirement already satisfied: requests<3,>=2.21.0 in c:\\anaconda\\lib\\site-packages (from tensorboard<2.10,>=2.9->tensorflow) (2.24.0)\n",
      "Requirement already satisfied: pyparsing>=2.0.2 in c:\\anaconda\\lib\\site-packages (from packaging->tensorflow) (2.4.7)\n",
      "Requirement already satisfied: requests-oauthlib>=0.7.0 in c:\\anaconda\\lib\\site-packages (from google-auth-oauthlib<0.5,>=0.4.1->tensorboard<2.10,>=2.9->tensorflow) (1.3.1)\n",
      "Requirement already satisfied: importlib-metadata>=4.4; python_version < \"3.10\" in c:\\anaconda\\lib\\site-packages (from markdown>=2.6.8->tensorboard<2.10,>=2.9->tensorflow) (4.11.3)\n",
      "Requirement already satisfied: cachetools<5.0,>=2.0.0 in c:\\anaconda\\lib\\site-packages (from google-auth<3,>=1.6.3->tensorboard<2.10,>=2.9->tensorflow) (4.2.2)\n",
      "Requirement already satisfied: rsa<5,>=3.1.4; python_version >= \"3.6\" in c:\\anaconda\\lib\\site-packages (from google-auth<3,>=1.6.3->tensorboard<2.10,>=2.9->tensorflow) (4.7.2)\n",
      "Requirement already satisfied: pyasn1-modules>=0.2.1 in c:\\anaconda\\lib\\site-packages (from google-auth<3,>=1.6.3->tensorboard<2.10,>=2.9->tensorflow) (0.2.8)\n",
      "Requirement already satisfied: urllib3!=1.25.0,!=1.25.1,<1.26,>=1.21.1 in c:\\anaconda\\lib\\site-packages (from requests<3,>=2.21.0->tensorboard<2.10,>=2.9->tensorflow) (1.25.11)\n",
      "Requirement already satisfied: chardet<4,>=3.0.2 in c:\\anaconda\\lib\\site-packages (from requests<3,>=2.21.0->tensorboard<2.10,>=2.9->tensorflow) (3.0.4)\n",
      "Requirement already satisfied: certifi>=2017.4.17 in c:\\anaconda\\lib\\site-packages (from requests<3,>=2.21.0->tensorboard<2.10,>=2.9->tensorflow) (2021.10.8)\n",
      "Requirement already satisfied: idna<3,>=2.5 in c:\\anaconda\\lib\\site-packages (from requests<3,>=2.21.0->tensorboard<2.10,>=2.9->tensorflow) (2.10)\n",
      "Requirement already satisfied: oauthlib>=3.0.0 in c:\\anaconda\\lib\\site-packages (from requests-oauthlib>=0.7.0->google-auth-oauthlib<0.5,>=0.4.1->tensorboard<2.10,>=2.9->tensorflow) (3.2.0)\n",
      "Requirement already satisfied: zipp>=0.5 in c:\\anaconda\\lib\\site-packages (from importlib-metadata>=4.4; python_version < \"3.10\"->markdown>=2.6.8->tensorboard<2.10,>=2.9->tensorflow) (3.4.0)\n",
      "Requirement already satisfied: pyasn1>=0.1.3 in c:\\anaconda\\lib\\site-packages (from rsa<5,>=3.1.4; python_version >= \"3.6\"->google-auth<3,>=1.6.3->tensorboard<2.10,>=2.9->tensorflow) (0.4.8)\n"
     ]
    }
   ],
   "source": [
    "import sys\n",
    "!{sys.executable} -m pip install tensorflow"
   ]
  },
  {
   "cell_type": "code",
   "execution_count": 2,
   "metadata": {},
   "outputs": [],
   "source": [
    "import pandas as pd\n",
    "import numpy as np\n",
    "import matplotlib.pyplot as plt\n",
    "import csv\n",
    "import nltk"
   ]
  },
  {
   "cell_type": "code",
   "execution_count": 3,
   "metadata": {},
   "outputs": [
    {
     "data": {
      "text/html": [
       "<div>\n",
       "<style scoped>\n",
       "    .dataframe tbody tr th:only-of-type {\n",
       "        vertical-align: middle;\n",
       "    }\n",
       "\n",
       "    .dataframe tbody tr th {\n",
       "        vertical-align: top;\n",
       "    }\n",
       "\n",
       "    .dataframe thead th {\n",
       "        text-align: right;\n",
       "    }\n",
       "</style>\n",
       "<table border=\"1\" class=\"dataframe\">\n",
       "  <thead>\n",
       "    <tr style=\"text-align: right;\">\n",
       "      <th></th>\n",
       "      <th>Tweet</th>\n",
       "      <th>Keyword</th>\n",
       "      <th>pcl</th>\n",
       "    </tr>\n",
       "  </thead>\n",
       "  <tbody>\n",
       "    <tr>\n",
       "      <th>0</th>\n",
       "      <td>Wasim bhai popular aur jhoote case uthane k sa...</td>\n",
       "      <td>mazdoor</td>\n",
       "      <td>1</td>\n",
       "    </tr>\n",
       "    <tr>\n",
       "      <th>1</th>\n",
       "      <td>Hahaha khob Mazaq ha jo yaha wazir a azam ka h...</td>\n",
       "      <td>mazdoor</td>\n",
       "      <td>0</td>\n",
       "    </tr>\n",
       "    <tr>\n",
       "      <th>2</th>\n",
       "      <td>chan sahb mazloom steel mill k mazdoor aap se ...</td>\n",
       "      <td>mazdoor</td>\n",
       "      <td>0</td>\n",
       "    </tr>\n",
       "    <tr>\n",
       "      <th>3</th>\n",
       "      <td>Kitny mazdoor reh huye thy unku list share kro...</td>\n",
       "      <td>mazdoor</td>\n",
       "      <td>0</td>\n",
       "    </tr>\n",
       "    <tr>\n",
       "      <th>4</th>\n",
       "      <td>Aaj mazdoor dey par UN mazdoro ko bhi hum yaad...</td>\n",
       "      <td>mazdoor</td>\n",
       "      <td>2</td>\n",
       "    </tr>\n",
       "    <tr>\n",
       "      <th>...</th>\n",
       "      <td>...</td>\n",
       "      <td>...</td>\n",
       "      <td>...</td>\n",
       "    </tr>\n",
       "    <tr>\n",
       "      <th>3379</th>\n",
       "      <td>Aur ek tumhara jija, jo saari zameen pe kabza ...</td>\n",
       "      <td>zameen</td>\n",
       "      <td>0</td>\n",
       "    </tr>\n",
       "    <tr>\n",
       "      <th>3380</th>\n",
       "      <td>How can you even compare a womans pain and a m...</td>\n",
       "      <td>zameen</td>\n",
       "      <td>0</td>\n",
       "    </tr>\n",
       "    <tr>\n",
       "      <th>3381</th>\n",
       "      <td>Ab to paani aakr sidha zameen pr rukta hai, mu...</td>\n",
       "      <td>zameen</td>\n",
       "      <td>0</td>\n",
       "    </tr>\n",
       "    <tr>\n",
       "      <th>3382</th>\n",
       "      <td>Jannat ka swad Zameen pe mil raha hai</td>\n",
       "      <td>zameen</td>\n",
       "      <td>0</td>\n",
       "    </tr>\n",
       "    <tr>\n",
       "      <th>3383</th>\n",
       "      <td>Tum haddi he halal krna tommy ab 40 din sa zad...</td>\n",
       "      <td>zameen</td>\n",
       "      <td>0</td>\n",
       "    </tr>\n",
       "  </tbody>\n",
       "</table>\n",
       "<p>3384 rows × 3 columns</p>\n",
       "</div>"
      ],
      "text/plain": [
       "                                                  Tweet  Keyword  pcl\n",
       "0     Wasim bhai popular aur jhoote case uthane k sa...  mazdoor    1\n",
       "1     Hahaha khob Mazaq ha jo yaha wazir a azam ka h...  mazdoor    0\n",
       "2     chan sahb mazloom steel mill k mazdoor aap se ...  mazdoor    0\n",
       "3     Kitny mazdoor reh huye thy unku list share kro...  mazdoor    0\n",
       "4     Aaj mazdoor dey par UN mazdoro ko bhi hum yaad...  mazdoor    2\n",
       "...                                                 ...      ...  ...\n",
       "3379  Aur ek tumhara jija, jo saari zameen pe kabza ...   zameen    0\n",
       "3380  How can you even compare a womans pain and a m...   zameen    0\n",
       "3381  Ab to paani aakr sidha zameen pr rukta hai, mu...   zameen    0\n",
       "3382             Jannat ka swad Zameen pe mil raha hai    zameen    0\n",
       "3383  Tum haddi he halal krna tommy ab 40 din sa zad...   zameen    0\n",
       "\n",
       "[3384 rows x 3 columns]"
      ]
     },
     "execution_count": 3,
     "metadata": {},
     "output_type": "execute_result"
    }
   ],
   "source": [
    "df = pd.read_csv(r'C:\\Users\\i c\\Desktop\\final.csv')\n",
    "df"
   ]
  },
  {
   "cell_type": "code",
   "execution_count": 4,
   "metadata": {},
   "outputs": [],
   "source": [
    "df.Tweet=df.Tweet.astype(str)"
   ]
  },
  {
   "cell_type": "code",
   "execution_count": 5,
   "metadata": {},
   "outputs": [],
   "source": [
    "import matplotlib.pyplot as plt\n",
    "from sklearn.metrics import accuracy_score\n",
    "from sklearn.metrics import precision_score\n",
    "from sklearn.metrics import recall_score\n",
    "from sklearn.metrics import f1_score\n",
    "from sklearn.metrics import classification_report "
   ]
  },
  {
   "cell_type": "code",
   "execution_count": 7,
   "metadata": {},
   "outputs": [],
   "source": [
    "from sklearn.metrics import confusion_matrix\n",
    "from sklearn.metrics import precision_score\n",
    "from sklearn.metrics import recall_score\n",
    "from sklearn.metrics import f1_score\n",
    "from sklearn.metrics import accuracy_score\n",
    "\n",
    "def binary_scores(real, predictions):\n",
    "    matrix = confusion_matrix(real, predictions)\n",
    "    print(\"Accuracy \",accuracy_score(real, predictions))\n",
    "    tn, fp, fn, tp = matrix.ravel()\n",
    "    print(\"tn \", tn,\" fp \", fp , \" fn \", fn, \" tp \", tp)\n",
    "    print(\"Precision \",precision_score(real, predictions, zero_division=1))\n",
    "    print(\"Recall \",recall_score(real, predictions, zero_division=1))  \n",
    "    print(\"F1 Score \",f1_score(real, predictions, zero_division=1))\n",
    "    print('-' * 70)\n",
    "    print()\n",
    "\n",
    "def multi_scores(real, predictions):\n",
    "    matrix = confusion_matrix(real, predictions)\n",
    "    print(\"accuracy_score: \", accuracy_score(real, predictions))\n",
    "    tn, fp, fn, tp = matrix.ravel()\n",
    "    print(\"tn \", tn,\" fp \", fp , \" fn \", fn, \" tp \", tp)\n",
    "    print(\"micro average scores:\")\n",
    "    print(\"precision_score: \", precision_score(real, predictions, average='micro', zero_division=1))\n",
    "    print(\"recall_score: \", recall_score(real, predictions, average='micro'))\n",
    "    print(\"f1_score: \", f1_score(real, predictions, average='micro'))\n",
    "    print(\"macro average scores:\")\n",
    "    print(\"precision_score: \", precision_score(real, predictions, average='macro', zero_division=1))\n",
    "    print(\"recall_score: \", recall_score(real, predictions, average='macro'))\n",
    "    print(\"f1_score: \", f1_score(real, predictions, average='macro'))\n",
    "    print('-' * 70)\n",
    "    print()"
   ]
  },
  {
   "cell_type": "code",
   "execution_count": 8,
   "metadata": {},
   "outputs": [],
   "source": [
    "def call_predictions(predictions_multi, y_test):\n",
    "    prediction_list = []\n",
    "    real_list = []\n",
    "    print(predictions_multi, y_test)\n",
    "    len(predictions_multi)\n",
    "    len(y_test)\n",
    "    for i in range(len(predictions_multi)):\n",
    "        max = np.argmax(predictions_multi[i])\n",
    "        prediction_list.append(max)\n",
    "    predictions = np.array(prediction_list)\n",
    "\n",
    "    for i in range(len(y_test)):\n",
    "        max = np.argmax(y_test[i])\n",
    "        real_list.append(max)\n",
    "    real = np.array(real_list)\n",
    "  \n",
    "    return real, predictions"
   ]
  },
  {
   "cell_type": "code",
   "execution_count": 10,
   "metadata": {},
   "outputs": [
    {
     "data": {
      "text/html": [
       "<div>\n",
       "<style scoped>\n",
       "    .dataframe tbody tr th:only-of-type {\n",
       "        vertical-align: middle;\n",
       "    }\n",
       "\n",
       "    .dataframe tbody tr th {\n",
       "        vertical-align: top;\n",
       "    }\n",
       "\n",
       "    .dataframe thead th {\n",
       "        text-align: right;\n",
       "    }\n",
       "</style>\n",
       "<table border=\"1\" class=\"dataframe\">\n",
       "  <thead>\n",
       "    <tr style=\"text-align: right;\">\n",
       "      <th></th>\n",
       "      <th>Tweet</th>\n",
       "      <th>Keyword</th>\n",
       "      <th>pcl</th>\n",
       "    </tr>\n",
       "  </thead>\n",
       "  <tbody>\n",
       "    <tr>\n",
       "      <th>0</th>\n",
       "      <td>Wasim bhai popular aur jhoote case uthane k sa...</td>\n",
       "      <td>mazdoor</td>\n",
       "      <td>1</td>\n",
       "    </tr>\n",
       "    <tr>\n",
       "      <th>1</th>\n",
       "      <td>Hahaha khob Mazaq ha jo yaha wazir a azam ka h...</td>\n",
       "      <td>mazdoor</td>\n",
       "      <td>0</td>\n",
       "    </tr>\n",
       "    <tr>\n",
       "      <th>2</th>\n",
       "      <td>chan sahb mazloom steel mill k mazdoor aap se ...</td>\n",
       "      <td>mazdoor</td>\n",
       "      <td>0</td>\n",
       "    </tr>\n",
       "    <tr>\n",
       "      <th>3</th>\n",
       "      <td>Kitny mazdoor reh huye thy unku list share kro...</td>\n",
       "      <td>mazdoor</td>\n",
       "      <td>0</td>\n",
       "    </tr>\n",
       "    <tr>\n",
       "      <th>4</th>\n",
       "      <td>Aaj mazdoor dey par UN mazdoro ko bhi hum yaad...</td>\n",
       "      <td>mazdoor</td>\n",
       "      <td>1</td>\n",
       "    </tr>\n",
       "    <tr>\n",
       "      <th>...</th>\n",
       "      <td>...</td>\n",
       "      <td>...</td>\n",
       "      <td>...</td>\n",
       "    </tr>\n",
       "    <tr>\n",
       "      <th>3379</th>\n",
       "      <td>Aur ek tumhara jija, jo saari zameen pe kabza ...</td>\n",
       "      <td>zameen</td>\n",
       "      <td>0</td>\n",
       "    </tr>\n",
       "    <tr>\n",
       "      <th>3380</th>\n",
       "      <td>How can you even compare a womans pain and a m...</td>\n",
       "      <td>zameen</td>\n",
       "      <td>0</td>\n",
       "    </tr>\n",
       "    <tr>\n",
       "      <th>3381</th>\n",
       "      <td>Ab to paani aakr sidha zameen pr rukta hai, mu...</td>\n",
       "      <td>zameen</td>\n",
       "      <td>0</td>\n",
       "    </tr>\n",
       "    <tr>\n",
       "      <th>3382</th>\n",
       "      <td>Jannat ka swad Zameen pe mil raha hai</td>\n",
       "      <td>zameen</td>\n",
       "      <td>0</td>\n",
       "    </tr>\n",
       "    <tr>\n",
       "      <th>3383</th>\n",
       "      <td>Tum haddi he halal krna tommy ab 40 din sa zad...</td>\n",
       "      <td>zameen</td>\n",
       "      <td>0</td>\n",
       "    </tr>\n",
       "  </tbody>\n",
       "</table>\n",
       "<p>3384 rows × 3 columns</p>\n",
       "</div>"
      ],
      "text/plain": [
       "                                                  Tweet  Keyword  pcl\n",
       "0     Wasim bhai popular aur jhoote case uthane k sa...  mazdoor    1\n",
       "1     Hahaha khob Mazaq ha jo yaha wazir a azam ka h...  mazdoor    0\n",
       "2     chan sahb mazloom steel mill k mazdoor aap se ...  mazdoor    0\n",
       "3     Kitny mazdoor reh huye thy unku list share kro...  mazdoor    0\n",
       "4     Aaj mazdoor dey par UN mazdoro ko bhi hum yaad...  mazdoor    1\n",
       "...                                                 ...      ...  ...\n",
       "3379  Aur ek tumhara jija, jo saari zameen pe kabza ...   zameen    0\n",
       "3380  How can you even compare a womans pain and a m...   zameen    0\n",
       "3381  Ab to paani aakr sidha zameen pr rukta hai, mu...   zameen    0\n",
       "3382             Jannat ka swad Zameen pe mil raha hai    zameen    0\n",
       "3383  Tum haddi he halal krna tommy ab 40 din sa zad...   zameen    0\n",
       "\n",
       "[3384 rows x 3 columns]"
      ]
     },
     "execution_count": 10,
     "metadata": {},
     "output_type": "execute_result"
    }
   ],
   "source": [
    "df.loc[df['pcl'] > 0, 'pcl'] = 1\n",
    "df"
   ]
  },
  {
   "cell_type": "code",
   "execution_count": 14,
   "metadata": {},
   "outputs": [],
   "source": [
    "from sklearn.model_selection import train_test_split\n",
    "import csv"
   ]
  },
  {
   "cell_type": "code",
   "execution_count": 15,
   "metadata": {},
   "outputs": [],
   "source": [
    "training_X,testing_X, training_Y , testing_Y  = train_test_split(X,df['pcl'],random_state=42, test_size=0.2, stratify= df['pcl'])"
   ]
  },
  {
   "cell_type": "code",
   "execution_count": 23,
   "metadata": {},
   "outputs": [
    {
     "data": {
      "text/plain": [
       "915     0\n",
       "2840    0\n",
       "2025    0\n",
       "1097    0\n",
       "2031    0\n",
       "       ..\n",
       "1549    0\n",
       "3335    0\n",
       "1969    0\n",
       "3127    0\n",
       "813     1\n",
       "Name: pcl, Length: 677, dtype: int64"
      ]
     },
     "execution_count": 23,
     "metadata": {},
     "output_type": "execute_result"
    }
   ],
   "source": [
    "from sklearn import svm\n",
    "clf = svm.SVC()\n",
    "clf.fit(X_res, y_res)\n",
    "pred=clf.predict(testing_X)\n",
    "testing_Y"
   ]
  },
  {
   "cell_type": "code",
   "execution_count": 24,
   "metadata": {},
   "outputs": [
    {
     "name": "stdout",
     "output_type": "stream",
     "text": [
      "Accuracy: 0.921713\n",
      "F1 score: 0.545079\n",
      "Precision: 0.795330\n",
      "Recall: 0.534756\n",
      "-------------------------\n",
      "Accuracy :  92.17134416543574\n",
      "F1 Score :  0.5450787975606355\n",
      "Report : \n",
      "               precision    recall  f1-score   support\n",
      "\n",
      "           0       0.92      1.00      0.96       622\n",
      "           1       0.67      0.07      0.13        55\n",
      "\n",
      "    accuracy                           0.92       677\n",
      "   macro avg       0.80      0.53      0.55       677\n",
      "weighted avg       0.90      0.92      0.89       677\n",
      "\n"
     ]
    }
   ],
   "source": [
    "matrix(testing_Y,pred)"
   ]
  },
  {
   "cell_type": "code",
   "execution_count": 25,
   "metadata": {},
   "outputs": [],
   "source": [
    "from sklearn.linear_model import LogisticRegression\n",
    "LR = LogisticRegression(random_state=0).fit(X_res, y_res)\n",
    "pred1=LR.predict(testing_X)"
   ]
  },
  {
   "cell_type": "code",
   "execution_count": 26,
   "metadata": {},
   "outputs": [
    {
     "name": "stdout",
     "output_type": "stream",
     "text": [
      "Accuracy: 0.905465\n",
      "F1 score: 0.711731\n",
      "Precision: 0.695106\n",
      "Recall: 0.733090\n",
      "-------------------------\n",
      "Accuracy :  90.54652880354506\n",
      "F1 Score :  0.7117308920587608\n",
      "Report : \n",
      "               precision    recall  f1-score   support\n",
      "\n",
      "           0       0.96      0.94      0.95       622\n",
      "           1       0.43      0.53      0.48        55\n",
      "\n",
      "    accuracy                           0.91       677\n",
      "   macro avg       0.70      0.73      0.71       677\n",
      "weighted avg       0.91      0.91      0.91       677\n",
      "\n"
     ]
    }
   ],
   "source": [
    "matrix(testing_Y,pred1)"
   ]
  },
  {
   "cell_type": "code",
   "execution_count": 27,
   "metadata": {},
   "outputs": [],
   "source": [
    "from sklearn.naive_bayes import GaussianNB\n",
    "NB = GaussianNB()\n",
    "NB.fit(X_res.toarray(),y_res)\n",
    "pred2 = NB.predict(testing_X.toarray())"
   ]
  },
  {
   "cell_type": "code",
   "execution_count": 28,
   "metadata": {},
   "outputs": [
    {
     "name": "stdout",
     "output_type": "stream",
     "text": [
      "Accuracy: 0.828656\n",
      "F1 score: 0.506461\n",
      "Precision: 0.506800\n",
      "Recall: 0.508974\n",
      "-------------------------\n",
      "Accuracy :  82.86558345642541\n",
      "F1 Score :  0.5064605329311211\n",
      "Report : \n",
      "               precision    recall  f1-score   support\n",
      "\n",
      "           0       0.92      0.89      0.91       622\n",
      "           1       0.09      0.13      0.11        55\n",
      "\n",
      "    accuracy                           0.83       677\n",
      "   macro avg       0.51      0.51      0.51       677\n",
      "weighted avg       0.85      0.83      0.84       677\n",
      "\n"
     ]
    }
   ],
   "source": [
    "matrix(testing_Y,pred2)"
   ]
  },
  {
   "cell_type": "code",
   "execution_count": 22,
   "metadata": {},
   "outputs": [
    {
     "name": "stdout",
     "output_type": "stream",
     "text": [
      "Training target statistics: Counter({0: 2488, 1: 2488})\n",
      "Testing target statistics: Counter({0: 622, 1: 55})\n"
     ]
    }
   ],
   "source": [
    "from imblearn.over_sampling import RandomOverSampler\n",
    "from collections import Counter\n",
    "over_sampler = RandomOverSampler(random_state=42)\n",
    "X_res, y_res = over_sampler.fit_resample(training_X, training_Y )\n",
    "print(f\"Training target statistics: {Counter(y_res)}\")\n",
    "print(f\"Testing target statistics: {Counter(testing_Y)}\")"
   ]
  },
  {
   "cell_type": "code",
   "execution_count": 13,
   "metadata": {},
   "outputs": [],
   "source": [
    "from keras.preprocessing.text import Tokenizer\n",
    "from keras.preprocessing import sequence\n",
    "t = Tokenizer(split = ' ', lower=True)\n",
    "#Fit the Tokenizer on text\n",
    "t.fit_on_texts(df['Tweet'].values)\n",
    "#Converting text to sequences\n",
    "X = t.texts_to_sequences(df['Tweet'].values)\n",
    "#Padding the sequences\n",
    "X = keras.preprocessing.sequence.pad_sequences(X)"
   ]
  },
  {
   "cell_type": "code",
   "execution_count": 14,
   "metadata": {},
   "outputs": [],
   "source": [
    "from sklearn.model_selection import train_test_split\n",
    "Y = pd.get_dummies(df['pcl']).values\n",
    "X_train, X_test, y_train, y_test = train_test_split(X, Y, test_size=0.25, random_state=42)"
   ]
  },
  {
   "cell_type": "code",
   "execution_count": 15,
   "metadata": {},
   "outputs": [],
   "source": [
    "Y_train = np.asarray(y_train).astype('float32').reshape((-1,1))\n",
    "Y_test = np.asarray(y_test).astype('float32').reshape((-1,1))"
   ]
  },
  {
   "cell_type": "code",
   "execution_count": 16,
   "metadata": {},
   "outputs": [],
   "source": [
    "import tensorflow as tf\n",
    "from tensorflow import keras\n",
    "from keras.layers import *"
   ]
  },
  {
   "cell_type": "code",
   "execution_count": 147,
   "metadata": {},
   "outputs": [
    {
     "name": "stdout",
     "output_type": "stream",
     "text": [
      "(2538, 2)\n",
      "(2538, 66)\n"
     ]
    }
   ],
   "source": [
    "print(y_train.shape)\n",
    "print(X_train.shape)"
   ]
  },
  {
   "cell_type": "code",
   "execution_count": 17,
   "metadata": {},
   "outputs": [],
   "source": [
    "from keras.layers import *\n",
    "def run_RNN(X_train, X_test, y_test, y_train, drop, no_of_layers, embedding_input_length, output_dimension ):\n",
    "    model=keras.Sequential()\n",
    "    model.add(Embedding(len(t.word_counts)+1, 128, input_length = embedding_input_length))\n",
    "    if no_of_layers == 3:\n",
    "        model.add(SimpleRNN(128, return_sequences=True))\n",
    "        model.add(Dropout(drop))\n",
    "    model.add(SimpleRNN(128, return_sequences=True))\n",
    "    model.add(Dropout(drop))\n",
    "    model.add(SimpleRNN(128))\n",
    "    model.add(Dropout(drop))\n",
    "    #model.add(Flatten())\n",
    "    #model.add(GlobalAveragePooling2D())\n",
    "    model.add(Dense(output_dimension, activation='sigmoid'))\n",
    "    model.compile(loss='binary_crossentropy', optimizer='adam', metrics=['accuracy'])\n",
    "    batch_size = 32\n",
    "    epochs = 2\n",
    "    model.summary\n",
    "    model.fit(X_train, y_train, epochs=epochs, batch_size=batch_size)\n",
    "    predictions_double = model.predict(X_test)\n",
    "    real, predictions = call_predictions(predictions_double,y_test)\n",
    "    if output_dimension == 2:\n",
    "        binary_scores(real, predictions)\n",
    "    else:\n",
    "        multi_scores(real, predictions)\n",
    "   "
   ]
  },
  {
   "cell_type": "code",
   "execution_count": 1,
   "metadata": {},
   "outputs": [],
   "source": [
    "run_RNN(X_train, X_test, y_test, y_train, 0.3, 2, X.shape[1], 2)"
   ]
  },
  {
   "cell_type": "code",
   "execution_count": 2,
   "metadata": {},
   "outputs": [],
   "source": [
    "run_RNN(X_train, X_test, y_test, y_train, 0.7, 2, X.shape[1], 2)"
   ]
  },
  {
   "cell_type": "code",
   "execution_count": 4,
   "metadata": {},
   "outputs": [],
   "source": [
    "run_RNN(X_train, X_test, y_test, y_train, 0.3, 3, X.shape[1], 2)"
   ]
  },
  {
   "cell_type": "code",
   "execution_count": 5,
   "metadata": {},
   "outputs": [],
   "source": [
    "run_RNN(X_train, X_test, y_test, y_train, 0.7, 3, X.shape[1], 2)"
   ]
  },
  {
   "cell_type": "code",
   "execution_count": 164,
   "metadata": {},
   "outputs": [],
   "source": [
    "def run_LSTM(X_train, X_test, y_test, y_train, drop, no_of_layers, embedding_input_length, output_dimension ):\n",
    "    model=keras.Sequential()\n",
    "\n",
    "    #embedding layer\n",
    "    model.add(Embedding(len(t.word_counts)+1, 128, input_length = embedding_input_length))\n",
    "    \n",
    "    #lstm layers\n",
    "    if no_of_layers == 3:\n",
    "        model.add(LSTM(128, return_sequences=True))\n",
    "        model.add(Dropout(drop))\n",
    "    model.add(LSTM(128, return_sequences=True))\n",
    "    model.add(Dropout(drop))\n",
    "    model.add(LSTM(128))\n",
    "    model.add(Dropout(drop))\n",
    "\n",
    "    #Dense Layer\n",
    "    model.add(Dense(output_dimension, activation='softmax'))\n",
    "\n",
    "    #Adding loss function, optimizer, metrics\n",
    "    model.compile(loss='binary_crossentropy', optimizer='adam', metrics=['accuracy'])\n",
    "    batch_size = 32\n",
    "    epochs = 5\n",
    "\n",
    "    # mc=ModelCheckpoint('best_model.h5', monitor='val_acc', mode='max', save_best_only=True,verbose=1)  \n",
    "\n",
    "\n",
    "    #Training the Model\n",
    "    model.fit(X_train, y_train, epochs=epochs, batch_size=batch_size)\n",
    "    predictions_double = model.predict(X_test)\n",
    "    real, predictions = call_predictions(predictions_double,y_test)\n",
    "    if output_dimension == 2:\n",
    "        binary_scores(real, predictions)\n",
    "    else:\n",
    "        multi_scores(real, predictions)"
   ]
  },
  {
   "cell_type": "code",
   "execution_count": 165,
   "metadata": {},
   "outputs": [
    {
     "name": "stdout",
     "output_type": "stream",
     "text": [
      "Epoch 1/5\n",
      "80/80 [==============================] - 15s 127ms/step - loss: 0.2928 - accuracy: 0.9169\n",
      "Epoch 2/5\n",
      "80/80 [==============================] - 10s 128ms/step - loss: 0.1162 - accuracy: 0.9567\n",
      "Epoch 3/5\n",
      "80/80 [==============================] - 10s 129ms/step - loss: 0.0263 - accuracy: 0.9937\n",
      "Epoch 4/5\n",
      "80/80 [==============================] - 10s 126ms/step - loss: 0.0095 - accuracy: 0.9968\n",
      "Epoch 5/5\n",
      "80/80 [==============================] - 10s 129ms/step - loss: 0.0050 - accuracy: 0.9992\n",
      "27/27 [==============================] - 2s 40ms/step\n",
      "[[9.9999905e-01 9.4039166e-07]\n",
      " [9.9999905e-01 9.4908961e-07]\n",
      " [1.0000000e+00 3.4620047e-08]\n",
      " ...\n",
      " [1.0000000e+00 4.8005891e-08]\n",
      " [9.9999917e-01 8.4361159e-07]\n",
      " [9.9865216e-01 1.3478730e-03]] [[1 0]\n",
      " [1 0]\n",
      " [1 0]\n",
      " ...\n",
      " [1 0]\n",
      " [1 0]\n",
      " [0 1]]\n",
      "Accuracy  0.8995271867612293\n",
      "tn  746  fp  18  fn  67  tp  15\n",
      "Precision  0.45454545454545453\n",
      "Recall  0.18292682926829268\n",
      "F1 Score  0.2608695652173913\n",
      "----------------------------------------------------------------------\n",
      "\n"
     ]
    }
   ],
   "source": [
    "run_LSTM(X_train, X_test, y_test, y_train, 0.3, 2, X.shape[1], 2)"
   ]
  },
  {
   "cell_type": "code",
   "execution_count": 166,
   "metadata": {},
   "outputs": [
    {
     "name": "stdout",
     "output_type": "stream",
     "text": [
      "Epoch 1/5\n",
      "80/80 [==============================] - 15s 126ms/step - loss: 0.3250 - accuracy: 0.9188\n",
      "Epoch 2/5\n",
      "80/80 [==============================] - 10s 128ms/step - loss: 0.2537 - accuracy: 0.9224\n",
      "Epoch 3/5\n",
      "80/80 [==============================] - 10s 128ms/step - loss: 0.0904 - accuracy: 0.9689\n",
      "Epoch 4/5\n",
      "80/80 [==============================] - 10s 128ms/step - loss: 0.0193 - accuracy: 0.9961\n",
      "Epoch 5/5\n",
      "80/80 [==============================] - 10s 130ms/step - loss: 0.0057 - accuracy: 0.9996\n",
      "27/27 [==============================] - 2s 40ms/step\n",
      "[[9.9999940e-01 5.4646705e-07]\n",
      " [9.9999917e-01 7.8285387e-07]\n",
      " [9.9999988e-01 8.4669722e-08]\n",
      " ...\n",
      " [1.0000000e+00 5.5322250e-08]\n",
      " [9.9999976e-01 2.6836580e-07]\n",
      " [9.9995077e-01 4.9209320e-05]] [[1 0]\n",
      " [1 0]\n",
      " [1 0]\n",
      " ...\n",
      " [1 0]\n",
      " [1 0]\n",
      " [0 1]]\n",
      "Accuracy  0.9066193853427896\n",
      "tn  759  fp  5  fn  74  tp  8\n",
      "Precision  0.6153846153846154\n",
      "Recall  0.0975609756097561\n",
      "F1 Score  0.16842105263157897\n",
      "----------------------------------------------------------------------\n",
      "\n"
     ]
    }
   ],
   "source": [
    "run_LSTM(X_train, X_test, y_test, y_train, 0.7, 2, X.shape[1], 2)"
   ]
  },
  {
   "cell_type": "code",
   "execution_count": 167,
   "metadata": {},
   "outputs": [
    {
     "name": "stdout",
     "output_type": "stream",
     "text": [
      "Epoch 1/5\n",
      "80/80 [==============================] - 22s 182ms/step - loss: 0.2620 - accuracy: 0.9212\n",
      "Epoch 2/5\n",
      "80/80 [==============================] - 15s 185ms/step - loss: 0.0815 - accuracy: 0.9716\n",
      "Epoch 3/5\n",
      "80/80 [==============================] - 15s 182ms/step - loss: 0.0210 - accuracy: 0.9941\n",
      "Epoch 4/5\n",
      "80/80 [==============================] - 15s 183ms/step - loss: 0.0036 - accuracy: 0.9992\n",
      "Epoch 5/5\n",
      "80/80 [==============================] - 15s 184ms/step - loss: 6.2739e-04 - accuracy: 1.0000\n",
      "27/27 [==============================] - 3s 62ms/step\n",
      "[[1.0000000e+00 3.5883023e-08]\n",
      " [1.0000000e+00 3.8261593e-08]\n",
      " [1.0000000e+00 1.4290824e-08]\n",
      " ...\n",
      " [1.0000000e+00 1.8215109e-08]\n",
      " [9.9999988e-01 1.3874958e-07]\n",
      " [9.9999940e-01 5.4615185e-07]] [[1 0]\n",
      " [1 0]\n",
      " [1 0]\n",
      " ...\n",
      " [1 0]\n",
      " [1 0]\n",
      " [0 1]]\n",
      "Accuracy  0.9066193853427896\n",
      "tn  748  fp  16  fn  63  tp  19\n",
      "Precision  0.5428571428571428\n",
      "Recall  0.23170731707317074\n",
      "F1 Score  0.3247863247863248\n",
      "----------------------------------------------------------------------\n",
      "\n"
     ]
    }
   ],
   "source": [
    "run_LSTM(X_train, X_test, y_test, y_train, 0.3, 3, X.shape[1], 2)"
   ]
  },
  {
   "cell_type": "code",
   "execution_count": 168,
   "metadata": {},
   "outputs": [
    {
     "name": "stdout",
     "output_type": "stream",
     "text": [
      "Epoch 1/5\n",
      "80/80 [==============================] - 22s 182ms/step - loss: 0.2665 - accuracy: 0.9212\n",
      "Epoch 2/5\n",
      "80/80 [==============================] - 15s 182ms/step - loss: 0.0935 - accuracy: 0.9740\n",
      "Epoch 3/5\n",
      "80/80 [==============================] - 15s 185ms/step - loss: 0.0259 - accuracy: 0.9941\n",
      "Epoch 4/5\n",
      "80/80 [==============================] - 15s 181ms/step - loss: 0.0072 - accuracy: 0.9980\n",
      "Epoch 5/5\n",
      "80/80 [==============================] - 15s 183ms/step - loss: 0.0016 - accuracy: 1.0000\n",
      "27/27 [==============================] - 3s 64ms/step\n",
      "[[1.0000000e+00 8.1370457e-09]\n",
      " [1.0000000e+00 3.0982818e-08]\n",
      " [1.0000000e+00 4.3812758e-09]\n",
      " ...\n",
      " [1.0000000e+00 5.6355818e-09]\n",
      " [1.0000000e+00 5.4429872e-08]\n",
      " [9.9999928e-01 7.4370769e-07]] [[1 0]\n",
      " [1 0]\n",
      " [1 0]\n",
      " ...\n",
      " [1 0]\n",
      " [1 0]\n",
      " [0 1]]\n",
      "Accuracy  0.8995271867612293\n",
      "tn  745  fp  19  fn  66  tp  16\n",
      "Precision  0.45714285714285713\n",
      "Recall  0.1951219512195122\n",
      "F1 Score  0.27350427350427353\n",
      "----------------------------------------------------------------------\n",
      "\n"
     ]
    }
   ],
   "source": [
    "run_LSTM(X_train, X_test, y_test, y_train, 0.7, 3, X.shape[1], 2)"
   ]
  },
  {
   "cell_type": "code",
   "execution_count": 169,
   "metadata": {},
   "outputs": [],
   "source": [
    "def run_GRU(X_train, X_test, y_test, y_train, drop, no_of_layers, embedding_input_length, output_dimension ):\n",
    "    model=keras.Sequential()\n",
    "    model.add(Embedding(len(t.word_counts)+1, 128, input_length = embedding_input_length))\n",
    "    if no_of_layers == 3:\n",
    "        model.add(GRU(128, return_sequences=True))\n",
    "        model.add(Dropout(drop))\n",
    "    model.add(GRU(128, return_sequences=True))\n",
    "    model.add(Dropout(drop))\n",
    "    model.add(GRU(128))\n",
    "    model.add(Dropout(drop))\n",
    "    model.add(Dense(output_dimension, activation='softmax'))\n",
    "    model.compile(loss='binary_crossentropy', optimizer='adam', metrics=['accuracy'])\n",
    "    batch_size = 32\n",
    "    epochs = 5\n",
    "    model.fit(X_train, y_train, epochs=epochs, batch_size=batch_size)\n",
    "    predictions_double = model.predict(X_test)\n",
    "    real, predictions = call_predictions(predictions_double,y_test)\n",
    "    if output_dimension == 2:\n",
    "        binary_scores(real, predictions)\n",
    "    else:\n",
    "        multi_scores(real, predictions)"
   ]
  },
  {
   "cell_type": "code",
   "execution_count": 170,
   "metadata": {},
   "outputs": [
    {
     "name": "stdout",
     "output_type": "stream",
     "text": [
      "Epoch 1/5\n",
      "80/80 [==============================] - 15s 114ms/step - loss: 0.2724 - accuracy: 0.9200\n",
      "Epoch 2/5\n",
      "80/80 [==============================] - 10s 124ms/step - loss: 0.0729 - accuracy: 0.9748\n",
      "Epoch 3/5\n",
      "80/80 [==============================] - 10s 120ms/step - loss: 0.0134 - accuracy: 0.9953\n",
      "Epoch 4/5\n",
      "80/80 [==============================] - 9s 114ms/step - loss: 0.0031 - accuracy: 0.9988\n",
      "Epoch 5/5\n",
      "80/80 [==============================] - 9s 112ms/step - loss: 5.8634e-04 - accuracy: 1.0000\n",
      "27/27 [==============================] - 2s 32ms/step\n",
      "[[9.9999976e-01 2.8393669e-07]\n",
      " [9.9927622e-01 7.2378491e-04]\n",
      " [1.0000000e+00 6.5507075e-09]\n",
      " ...\n",
      " [1.0000000e+00 3.7473824e-09]\n",
      " [1.0000000e+00 4.2387118e-08]\n",
      " [9.0880579e-01 9.1194235e-02]] [[1 0]\n",
      " [1 0]\n",
      " [1 0]\n",
      " ...\n",
      " [1 0]\n",
      " [1 0]\n",
      " [0 1]]\n",
      "Accuracy  0.8877068557919622\n",
      "tn  740  fp  24  fn  71  tp  11\n",
      "Precision  0.3142857142857143\n",
      "Recall  0.13414634146341464\n",
      "F1 Score  0.18803418803418806\n",
      "----------------------------------------------------------------------\n",
      "\n"
     ]
    }
   ],
   "source": [
    "run_GRU(X_train, X_test, y_test, y_train, 0.3, 2, X.shape[1], 2)"
   ]
  },
  {
   "cell_type": "code",
   "execution_count": 171,
   "metadata": {},
   "outputs": [
    {
     "name": "stdout",
     "output_type": "stream",
     "text": [
      "Epoch 1/5\n",
      "80/80 [==============================] - 21s 165ms/step - loss: 0.2507 - accuracy: 0.9228\n",
      "Epoch 2/5\n",
      "80/80 [==============================] - 13s 165ms/step - loss: 0.0656 - accuracy: 0.9799\n",
      "Epoch 3/5\n",
      "80/80 [==============================] - 13s 164ms/step - loss: 0.0123 - accuracy: 0.9961\n",
      "Epoch 4/5\n",
      "80/80 [==============================] - 13s 161ms/step - loss: 0.0054 - accuracy: 0.9984\n",
      "Epoch 5/5\n",
      "80/80 [==============================] - 13s 164ms/step - loss: 3.4773e-04 - accuracy: 1.0000\n",
      "27/27 [==============================] - 3s 49ms/step\n",
      "[[9.9999976e-01 2.3404289e-07]\n",
      " [9.9999988e-01 7.7377855e-08]\n",
      " [1.0000000e+00 2.7631726e-09]\n",
      " ...\n",
      " [1.0000000e+00 3.0037466e-09]\n",
      " [1.0000000e+00 1.2801174e-08]\n",
      " [9.9908996e-01 9.1000495e-04]] [[1 0]\n",
      " [1 0]\n",
      " [1 0]\n",
      " ...\n",
      " [1 0]\n",
      " [1 0]\n",
      " [0 1]]\n",
      "Accuracy  0.8829787234042553\n",
      "tn  736  fp  28  fn  71  tp  11\n",
      "Precision  0.28205128205128205\n",
      "Recall  0.13414634146341464\n",
      "F1 Score  0.18181818181818182\n",
      "----------------------------------------------------------------------\n",
      "\n"
     ]
    }
   ],
   "source": [
    "run_GRU(X_train, X_test, y_test, y_train, 0.3, 3, X.shape[1], 2)"
   ]
  },
  {
   "cell_type": "code",
   "execution_count": 172,
   "metadata": {},
   "outputs": [
    {
     "name": "stdout",
     "output_type": "stream",
     "text": [
      "Epoch 1/5\n",
      "80/80 [==============================] - 14s 112ms/step - loss: 0.2743 - accuracy: 0.9180\n",
      "Epoch 2/5\n",
      "80/80 [==============================] - 9s 110ms/step - loss: 0.0758 - accuracy: 0.9764\n",
      "Epoch 3/5\n",
      "80/80 [==============================] - 9s 113ms/step - loss: 0.0157 - accuracy: 0.9961\n",
      "Epoch 4/5\n",
      "80/80 [==============================] - 9s 113ms/step - loss: 0.0056 - accuracy: 0.9992\n",
      "Epoch 5/5\n",
      "80/80 [==============================] - 9s 113ms/step - loss: 5.5269e-04 - accuracy: 1.0000\n",
      "27/27 [==============================] - 2s 35ms/step\n",
      "[[9.9999988e-01 7.6610696e-08]\n",
      " [9.9999213e-01 7.8567073e-06]\n",
      " [1.0000000e+00 1.7935916e-09]\n",
      " ...\n",
      " [1.0000000e+00 1.9587552e-09]\n",
      " [1.0000000e+00 4.2886579e-09]\n",
      " [9.9580956e-01 4.1904976e-03]] [[1 0]\n",
      " [1 0]\n",
      " [1 0]\n",
      " ...\n",
      " [1 0]\n",
      " [1 0]\n",
      " [0 1]]\n",
      "Accuracy  0.8877068557919622\n",
      "tn  735  fp  29  fn  66  tp  16\n",
      "Precision  0.35555555555555557\n",
      "Recall  0.1951219512195122\n",
      "F1 Score  0.25196850393700787\n",
      "----------------------------------------------------------------------\n",
      "\n"
     ]
    }
   ],
   "source": [
    "run_GRU(X_train, X_test, y_test, y_train, 0.7, 2, X.shape[1], 2)"
   ]
  },
  {
   "cell_type": "code",
   "execution_count": 173,
   "metadata": {},
   "outputs": [
    {
     "name": "stdout",
     "output_type": "stream",
     "text": [
      "Epoch 1/5\n",
      "80/80 [==============================] - 21s 165ms/step - loss: 0.2551 - accuracy: 0.9196\n",
      "Epoch 2/5\n",
      "80/80 [==============================] - 13s 161ms/step - loss: 0.0730 - accuracy: 0.9783\n",
      "Epoch 3/5\n",
      "80/80 [==============================] - 13s 166ms/step - loss: 0.0174 - accuracy: 0.9957\n",
      "Epoch 4/5\n",
      "80/80 [==============================] - 13s 161ms/step - loss: 0.0014 - accuracy: 1.0000\n",
      "Epoch 5/5\n",
      "80/80 [==============================] - 13s 159ms/step - loss: 1.9315e-04 - accuracy: 1.0000\n",
      "27/27 [==============================] - 3s 48ms/step\n",
      "[[1.0000000e+00 2.2953966e-08]\n",
      " [9.9999988e-01 1.3742020e-07]\n",
      " [1.0000000e+00 5.8312115e-09]\n",
      " ...\n",
      " [1.0000000e+00 6.5103749e-09]\n",
      " [1.0000000e+00 5.6128858e-08]\n",
      " [9.9508661e-01 4.9134428e-03]] [[1 0]\n",
      " [1 0]\n",
      " [1 0]\n",
      " ...\n",
      " [1 0]\n",
      " [1 0]\n",
      " [0 1]]\n",
      "Accuracy  0.8971631205673759\n",
      "tn  743  fp  21  fn  66  tp  16\n",
      "Precision  0.43243243243243246\n",
      "Recall  0.1951219512195122\n",
      "F1 Score  0.26890756302521013\n",
      "----------------------------------------------------------------------\n",
      "\n"
     ]
    }
   ],
   "source": [
    "run_GRU(X_train, X_test, y_test, y_train, 0.3, 3, X.shape[1], 2)"
   ]
  },
  {
   "cell_type": "code",
   "execution_count": 174,
   "metadata": {},
   "outputs": [],
   "source": [
    "def run_biLSTM(X_train, X_test, y_test, y_train, drop, no_of_layers, embedding_input_length, output_dimension ):\n",
    "    model=keras.Sequential()\n",
    "    model.add(Embedding(len(t.word_counts)+1, 128, input_length = embedding_input_length))\n",
    "    if no_of_layers == 3:\n",
    "        model.add(Bidirectional(LSTM(128, return_sequences=True)))\n",
    "        model.add(Dropout(drop))\n",
    "    model.add(Bidirectional(LSTM(128, return_sequences=True)))\n",
    "    model.add(Dropout(drop))\n",
    "    model.add(Bidirectional(LSTM(128)))\n",
    "    model.add(Dropout(drop))\n",
    "    model.add(Dense(output_dimension, activation='softmax'))\n",
    "    if output_dimension == 2:\n",
    "        model.compile(loss='binary_crossentropy', optimizer='adam', metrics=['accuracy'])\n",
    "    else:\n",
    "        model.compile(loss='categorical_crossentropy', optimizer='adam', metrics=['accuracy'])\n",
    "    batch_size = 32\n",
    "    epochs = 5\n",
    "    # oh_y_train=tf.one_hot(y_train, output_dimension)\n",
    "    model.fit(X_train, y_train, epochs=epochs, batch_size=batch_size)\n",
    "    predictions_double = model.predict(X_test)\n",
    "    real, predictions = call_predictions(predictions_double,y_test)\n",
    "    if output_dimension == 2:\n",
    "        binary_scores(real, predictions)\n",
    "    else:\n",
    "        multi_scores(real, predictions)"
   ]
  },
  {
   "cell_type": "code",
   "execution_count": 175,
   "metadata": {},
   "outputs": [
    {
     "name": "stdout",
     "output_type": "stream",
     "text": [
      "Epoch 1/5\n",
      "80/80 [==============================] - 28s 224ms/step - loss: 0.2589 - accuracy: 0.9192\n",
      "Epoch 2/5\n",
      "80/80 [==============================] - 18s 226ms/step - loss: 0.0840 - accuracy: 0.9724\n",
      "Epoch 3/5\n",
      "80/80 [==============================] - 18s 230ms/step - loss: 0.0174 - accuracy: 0.9968\n",
      "Epoch 4/5\n",
      "80/80 [==============================] - 18s 222ms/step - loss: 0.0048 - accuracy: 0.9996\n",
      "Epoch 5/5\n",
      "80/80 [==============================] - 18s 229ms/step - loss: 0.0035 - accuracy: 0.9996\n",
      "27/27 [==============================] - 4s 73ms/step\n",
      "[[9.9999976e-01 2.6733866e-07]\n",
      " [9.9912292e-01 8.7707787e-04]\n",
      " [9.9999988e-01 1.5666589e-07]\n",
      " ...\n",
      " [9.9999964e-01 3.3601464e-07]\n",
      " [9.9999964e-01 3.3223492e-07]\n",
      " [5.3071408e-06 9.9999464e-01]] [[1 0]\n",
      " [1 0]\n",
      " [1 0]\n",
      " ...\n",
      " [1 0]\n",
      " [1 0]\n",
      " [0 1]]\n",
      "Accuracy  0.8877068557919622\n",
      "tn  737  fp  27  fn  68  tp  14\n",
      "Precision  0.34146341463414637\n",
      "Recall  0.17073170731707318\n",
      "F1 Score  0.22764227642276427\n",
      "----------------------------------------------------------------------\n",
      "\n"
     ]
    }
   ],
   "source": [
    "run_biLSTM(X_train, X_test, y_test, y_train, 0.3, 2, X.shape[1], 2)"
   ]
  },
  {
   "cell_type": "code",
   "execution_count": 176,
   "metadata": {},
   "outputs": [
    {
     "name": "stdout",
     "output_type": "stream",
     "text": [
      "Epoch 1/5\n",
      "80/80 [==============================] - 27s 222ms/step - loss: 0.2443 - accuracy: 0.9180\n",
      "Epoch 2/5\n",
      "80/80 [==============================] - 18s 222ms/step - loss: 0.0875 - accuracy: 0.9649\n",
      "Epoch 3/5\n",
      "80/80 [==============================] - 18s 223ms/step - loss: 0.0223 - accuracy: 0.9949\n",
      "Epoch 4/5\n",
      "80/80 [==============================] - 18s 227ms/step - loss: 0.0058 - accuracy: 0.9988\n",
      "Epoch 5/5\n",
      "80/80 [==============================] - 18s 222ms/step - loss: 0.0013 - accuracy: 0.9996\n",
      "27/27 [==============================] - 4s 69ms/step\n",
      "[[1.0000000e+00 5.9539534e-08]\n",
      " [9.9999988e-01 6.7455417e-08]\n",
      " [1.0000000e+00 1.1983872e-08]\n",
      " ...\n",
      " [1.0000000e+00 1.2484593e-08]\n",
      " [9.9999988e-01 6.2525203e-08]\n",
      " [7.2399814e-07 9.9999928e-01]] [[1 0]\n",
      " [1 0]\n",
      " [1 0]\n",
      " ...\n",
      " [1 0]\n",
      " [1 0]\n",
      " [0 1]]\n",
      "Accuracy  0.8971631205673759\n",
      "tn  745  fp  19  fn  68  tp  14\n",
      "Precision  0.42424242424242425\n",
      "Recall  0.17073170731707318\n",
      "F1 Score  0.24347826086956523\n",
      "----------------------------------------------------------------------\n",
      "\n"
     ]
    }
   ],
   "source": [
    "run_biLSTM(X_train, X_test, y_test, y_train, 0.7, 2, X.shape[1], 2)"
   ]
  },
  {
   "cell_type": "code",
   "execution_count": 177,
   "metadata": {},
   "outputs": [
    {
     "name": "stdout",
     "output_type": "stream",
     "text": [
      "Epoch 1/5\n",
      "80/80 [==============================] - 41s 342ms/step - loss: 0.2285 - accuracy: 0.9228\n",
      "Epoch 2/5\n",
      "80/80 [==============================] - 28s 353ms/step - loss: 0.0682 - accuracy: 0.9752\n",
      "Epoch 3/5\n",
      "80/80 [==============================] - 26s 330ms/step - loss: 0.0150 - accuracy: 0.9957\n",
      "Epoch 4/5\n",
      "80/80 [==============================] - 26s 329ms/step - loss: 0.0041 - accuracy: 0.9992\n",
      "Epoch 5/5\n",
      "80/80 [==============================] - 26s 331ms/step - loss: 9.1985e-04 - accuracy: 1.0000\n",
      "27/27 [==============================] - 6s 104ms/step\n",
      "[[9.9999976e-01 2.2958307e-07]\n",
      " [9.9999642e-01 3.5632561e-06]\n",
      " [1.0000000e+00 2.8672627e-08]\n",
      " ...\n",
      " [1.0000000e+00 2.6877039e-08]\n",
      " [9.9997807e-01 2.1888642e-05]\n",
      " [4.0815762e-06 9.9999595e-01]] [[1 0]\n",
      " [1 0]\n",
      " [1 0]\n",
      " ...\n",
      " [1 0]\n",
      " [1 0]\n",
      " [0 1]]\n",
      "Accuracy  0.892434988179669\n",
      "tn  738  fp  26  fn  65  tp  17\n",
      "Precision  0.3953488372093023\n",
      "Recall  0.2073170731707317\n",
      "F1 Score  0.27199999999999996\n",
      "----------------------------------------------------------------------\n",
      "\n"
     ]
    }
   ],
   "source": [
    "run_biLSTM(X_train, X_test, y_test, y_train, 0.3, 3, X.shape[1], 2)"
   ]
  },
  {
   "cell_type": "code",
   "execution_count": 178,
   "metadata": {},
   "outputs": [
    {
     "name": "stdout",
     "output_type": "stream",
     "text": [
      "Epoch 1/5\n",
      "80/80 [==============================] - 40s 330ms/step - loss: 0.2774 - accuracy: 0.9188\n",
      "Epoch 2/5\n",
      "80/80 [==============================] - 26s 331ms/step - loss: 0.1124 - accuracy: 0.9677\n",
      "Epoch 3/5\n",
      "80/80 [==============================] - 26s 330ms/step - loss: 0.0416 - accuracy: 0.9886\n",
      "Epoch 4/5\n",
      "80/80 [==============================] - 27s 333ms/step - loss: 0.0130 - accuracy: 0.9972\n",
      "Epoch 5/5\n",
      "80/80 [==============================] - 27s 335ms/step - loss: 0.0067 - accuracy: 0.9984\n",
      "27/27 [==============================] - 6s 111ms/step\n",
      "[[9.99999881e-01 1.05208684e-07]\n",
      " [9.99999881e-01 1.78257082e-07]\n",
      " [9.99999881e-01 6.30899137e-08]\n",
      " ...\n",
      " [1.00000000e+00 5.21648964e-08]\n",
      " [9.99999881e-01 1.14700008e-07]\n",
      " [3.59414667e-02 9.64058578e-01]] [[1 0]\n",
      " [1 0]\n",
      " [1 0]\n",
      " ...\n",
      " [1 0]\n",
      " [1 0]\n",
      " [0 1]]\n",
      "Accuracy  0.8971631205673759\n",
      "tn  747  fp  17  fn  70  tp  12\n",
      "Precision  0.41379310344827586\n",
      "Recall  0.14634146341463414\n",
      "F1 Score  0.2162162162162162\n",
      "----------------------------------------------------------------------\n",
      "\n"
     ]
    }
   ],
   "source": [
    "run_biLSTM(X_train, X_test, y_test, y_train, 0.7, 3, X.shape[1], 2)"
   ]
  },
  {
   "cell_type": "code",
   "execution_count": 36,
   "metadata": {},
   "outputs": [
    {
     "name": "stdout",
     "output_type": "stream",
     "text": [
      "Requirement already satisfied: tensorflow_hub in c:\\anaconda\\lib\\site-packages (0.12.0)\n",
      "Requirement already satisfied: numpy>=1.12.0 in c:\\anaconda\\lib\\site-packages (from tensorflow_hub) (1.22.3)\n",
      "Note: you may need to restart the kernel to use updated packages.Requirement already satisfied: protobuf>=3.8.0 in c:\\anaconda\\lib\\site-packages (from tensorflow_hub) (3.19.1)\n",
      "\n"
     ]
    }
   ],
   "source": [
    "pip install tensorflow_hub"
   ]
  },
  {
   "cell_type": "code",
   "execution_count": 37,
   "metadata": {},
   "outputs": [
    {
     "name": "stdout",
     "output_type": "stream",
     "text": [
      "Requirement already satisfied: tensorflow_text in c:\\anaconda\\lib\\site-packages (2.9.0)\n",
      "Requirement already satisfied: tensorflow-hub>=0.8.0 in c:\\anaconda\\lib\\site-packages (from tensorflow_text) (0.12.0)\n",
      "Requirement already satisfied: tensorflow<2.10,>=2.9.0; platform_machine != \"arm64\" or platform_system != \"Darwin\" in c:\\anaconda\\lib\\site-packages (from tensorflow_text) (2.9.1)\n",
      "Requirement already satisfied: protobuf>=3.8.0 in c:\\anaconda\\lib\\site-packages (from tensorflow-hub>=0.8.0->tensorflow_text) (3.19.1)\n",
      "Requirement already satisfied: numpy>=1.12.0 in c:\\anaconda\\lib\\site-packages (from tensorflow-hub>=0.8.0->tensorflow_text) (1.22.3)\n",
      "Requirement already satisfied: wrapt>=1.11.0 in c:\\anaconda\\lib\\site-packages (from tensorflow<2.10,>=2.9.0; platform_machine != \"arm64\" or platform_system != \"Darwin\"->tensorflow_text) (1.11.2)\n",
      "Requirement already satisfied: absl-py>=1.0.0 in c:\\anaconda\\lib\\site-packages (from tensorflow<2.10,>=2.9.0; platform_machine != \"arm64\" or platform_system != \"Darwin\"->tensorflow_text) (1.0.0)\n",
      "Requirement already satisfied: libclang>=13.0.0 in c:\\anaconda\\lib\\site-packages (from tensorflow<2.10,>=2.9.0; platform_machine != \"arm64\" or platform_system != \"Darwin\"->tensorflow_text) (14.0.1)\n",
      "Requirement already satisfied: grpcio<2.0,>=1.24.3 in c:\\anaconda\\lib\\site-packages (from tensorflow<2.10,>=2.9.0; platform_machine != \"arm64\" or platform_system != \"Darwin\"->tensorflow_text) (1.46.1)\n",
      "Requirement already satisfied: tensorflow-io-gcs-filesystem>=0.23.1 in c:\\anaconda\\lib\\site-packages (from tensorflow<2.10,>=2.9.0; platform_machine != \"arm64\" or platform_system != \"Darwin\"->tensorflow_text) (0.25.0)\n",
      "Requirement already satisfied: keras-preprocessing>=1.1.1 in c:\\anaconda\\lib\\site-packages (from tensorflow<2.10,>=2.9.0; platform_machine != \"arm64\" or platform_system != \"Darwin\"->tensorflow_text) (1.1.2)\n",
      "Requirement already satisfied: tensorflow-estimator<2.10.0,>=2.9.0rc0 in c:\\anaconda\\lib\\site-packages (from tensorflow<2.10,>=2.9.0; platform_machine != \"arm64\" or platform_system != \"Darwin\"->tensorflow_text) (2.9.0)\n",
      "Requirement already satisfied: typing-extensions>=3.6.6 in c:\\anaconda\\lib\\site-packages (from tensorflow<2.10,>=2.9.0; platform_machine != \"arm64\" or platform_system != \"Darwin\"->tensorflow_text) (3.7.4.3)\n",
      "Requirement already satisfied: h5py>=2.9.0 in c:\\anaconda\\lib\\site-packages (from tensorflow<2.10,>=2.9.0; platform_machine != \"arm64\" or platform_system != \"Darwin\"->tensorflow_text) (2.10.0)\n",
      "Requirement already satisfied: tensorboard<2.10,>=2.9 in c:\\anaconda\\lib\\site-packages (from tensorflow<2.10,>=2.9.0; platform_machine != \"arm64\" or platform_system != \"Darwin\"->tensorflow_text) (2.9.0)\n",
      "Requirement already satisfied: keras<2.10.0,>=2.9.0rc0 in c:\\anaconda\\lib\\site-packages (from tensorflow<2.10,>=2.9.0; platform_machine != \"arm64\" or platform_system != \"Darwin\"->tensorflow_text) (2.9.0)\n",
      "Requirement already satisfied: google-pasta>=0.1.1 in c:\\anaconda\\lib\\site-packages (from tensorflow<2.10,>=2.9.0; platform_machine != \"arm64\" or platform_system != \"Darwin\"->tensorflow_text) (0.2.0)\n",
      "Requirement already satisfied: flatbuffers<2,>=1.12 in c:\\anaconda\\lib\\site-packages (from tensorflow<2.10,>=2.9.0; platform_machine != \"arm64\" or platform_system != \"Darwin\"->tensorflow_text) (1.12)\n",
      "Requirement already satisfied: setuptools in c:\\anaconda\\lib\\site-packages (from tensorflow<2.10,>=2.9.0; platform_machine != \"arm64\" or platform_system != \"Darwin\"->tensorflow_text) (50.3.1.post20201107)\n",
      "Requirement already satisfied: opt-einsum>=2.3.2 in c:\\anaconda\\lib\\site-packages (from tensorflow<2.10,>=2.9.0; platform_machine != \"arm64\" or platform_system != \"Darwin\"->tensorflow_text) (3.3.0)\n",
      "Requirement already satisfied: six>=1.12.0 in c:\\anaconda\\lib\\site-packages (from tensorflow<2.10,>=2.9.0; platform_machine != \"arm64\" or platform_system != \"Darwin\"->tensorflow_text) (1.15.0)\n",
      "Requirement already satisfied: packaging in c:\\anaconda\\lib\\site-packages (from tensorflow<2.10,>=2.9.0; platform_machine != \"arm64\" or platform_system != \"Darwin\"->tensorflow_text) (20.4)\n",
      "Requirement already satisfied: gast<=0.4.0,>=0.2.1 in c:\\anaconda\\lib\\site-packages (from tensorflow<2.10,>=2.9.0; platform_machine != \"arm64\" or platform_system != \"Darwin\"->tensorflow_text) (0.4.0)\n",
      "Requirement already satisfied: termcolor>=1.1.0 in c:\\anaconda\\lib\\site-packages (from tensorflow<2.10,>=2.9.0; platform_machine != \"arm64\" or platform_system != \"Darwin\"->tensorflow_text) (1.1.0)\n",
      "Requirement already satisfied: astunparse>=1.6.0 in c:\\anaconda\\lib\\site-packages (from tensorflow<2.10,>=2.9.0; platform_machine != \"arm64\" or platform_system != \"Darwin\"->tensorflow_text) (1.6.3)\n",
      "Requirement already satisfied: tensorboard-plugin-wit>=1.6.0 in c:\\anaconda\\lib\\site-packages (from tensorboard<2.10,>=2.9->tensorflow<2.10,>=2.9.0; platform_machine != \"arm64\" or platform_system != \"Darwin\"->tensorflow_text) (1.8.1)\n",
      "Requirement already satisfied: google-auth-oauthlib<0.5,>=0.4.1 in c:\\anaconda\\lib\\site-packages (from tensorboard<2.10,>=2.9->tensorflow<2.10,>=2.9.0; platform_machine != \"arm64\" or platform_system != \"Darwin\"->tensorflow_text) (0.4.6)\n",
      "Requirement already satisfied: tensorboard-data-server<0.7.0,>=0.6.0 in c:\\anaconda\\lib\\site-packages (from tensorboard<2.10,>=2.9->tensorflow<2.10,>=2.9.0; platform_machine != \"arm64\" or platform_system != \"Darwin\"->tensorflow_text) (0.6.1)\n",
      "Requirement already satisfied: werkzeug>=1.0.1 in c:\\anaconda\\lib\\site-packages (from tensorboard<2.10,>=2.9->tensorflow<2.10,>=2.9.0; platform_machine != \"arm64\" or platform_system != \"Darwin\"->tensorflow_text) (1.0.1)\n",
      "Requirement already satisfied: google-auth<3,>=1.6.3 in c:\\anaconda\\lib\\site-packages (from tensorboard<2.10,>=2.9->tensorflow<2.10,>=2.9.0; platform_machine != \"arm64\" or platform_system != \"Darwin\"->tensorflow_text) (1.28.0)\n",
      "Requirement already satisfied: markdown>=2.6.8 in c:\\anaconda\\lib\\site-packages (from tensorboard<2.10,>=2.9->tensorflow<2.10,>=2.9.0; platform_machine != \"arm64\" or platform_system != \"Darwin\"->tensorflow_text) (3.3.7)\n",
      "Requirement already satisfied: requests<3,>=2.21.0 in c:\\anaconda\\lib\\site-packages (from tensorboard<2.10,>=2.9->tensorflow<2.10,>=2.9.0; platform_machine != \"arm64\" or platform_system != \"Darwin\"->tensorflow_text) (2.24.0)\n",
      "Requirement already satisfied: wheel>=0.26 in c:\\anaconda\\lib\\site-packages (from tensorboard<2.10,>=2.9->tensorflow<2.10,>=2.9.0; platform_machine != \"arm64\" or platform_system != \"Darwin\"->tensorflow_text) (0.35.1)\n",
      "Requirement already satisfied: pyparsing>=2.0.2 in c:\\anaconda\\lib\\site-packages (from packaging->tensorflow<2.10,>=2.9.0; platform_machine != \"arm64\" or platform_system != \"Darwin\"->tensorflow_text) (2.4.7)\n",
      "Requirement already satisfied: requests-oauthlib>=0.7.0 in c:\\anaconda\\lib\\site-packages (from google-auth-oauthlib<0.5,>=0.4.1->tensorboard<2.10,>=2.9->tensorflow<2.10,>=2.9.0; platform_machine != \"arm64\" or platform_system != \"Darwin\"->tensorflow_text) (1.3.1)\n",
      "Requirement already satisfied: cachetools<5.0,>=2.0.0 in c:\\anaconda\\lib\\site-packages (from google-auth<3,>=1.6.3->tensorboard<2.10,>=2.9->tensorflow<2.10,>=2.9.0; platform_machine != \"arm64\" or platform_system != \"Darwin\"->tensorflow_text) (4.2.2)\n",
      "Requirement already satisfied: rsa<5,>=3.1.4; python_version >= \"3.6\" in c:\\anaconda\\lib\\site-packages (from google-auth<3,>=1.6.3->tensorboard<2.10,>=2.9->tensorflow<2.10,>=2.9.0; platform_machine != \"arm64\" or platform_system != \"Darwin\"->tensorflow_text) (4.7.2)\n",
      "Requirement already satisfied: pyasn1-modules>=0.2.1 in c:\\anaconda\\lib\\site-packages (from google-auth<3,>=1.6.3->tensorboard<2.10,>=2.9->tensorflow<2.10,>=2.9.0; platform_machine != \"arm64\" or platform_system != \"Darwin\"->tensorflow_text) (0.2.8)\n",
      "Requirement already satisfied: importlib-metadata>=4.4; python_version < \"3.10\" in c:\\anaconda\\lib\\site-packages (from markdown>=2.6.8->tensorboard<2.10,>=2.9->tensorflow<2.10,>=2.9.0; platform_machine != \"arm64\" or platform_system != \"Darwin\"->tensorflow_text) (4.11.3)\n",
      "Requirement already satisfied: chardet<4,>=3.0.2 in c:\\anaconda\\lib\\site-packages (from requests<3,>=2.21.0->tensorboard<2.10,>=2.9->tensorflow<2.10,>=2.9.0; platform_machine != \"arm64\" or platform_system != \"Darwin\"->tensorflow_text) (3.0.4)\n",
      "Requirement already satisfied: certifi>=2017.4.17 in c:\\anaconda\\lib\\site-packages (from requests<3,>=2.21.0->tensorboard<2.10,>=2.9->tensorflow<2.10,>=2.9.0; platform_machine != \"arm64\" or platform_system != \"Darwin\"->tensorflow_text) (2021.10.8)\n",
      "Requirement already satisfied: urllib3!=1.25.0,!=1.25.1,<1.26,>=1.21.1 in c:\\anaconda\\lib\\site-packages (from requests<3,>=2.21.0->tensorboard<2.10,>=2.9->tensorflow<2.10,>=2.9.0; platform_machine != \"arm64\" or platform_system != \"Darwin\"->tensorflow_text) (1.25.11)\n",
      "Requirement already satisfied: idna<3,>=2.5 in c:\\anaconda\\lib\\site-packages (from requests<3,>=2.21.0->tensorboard<2.10,>=2.9->tensorflow<2.10,>=2.9.0; platform_machine != \"arm64\" or platform_system != \"Darwin\"->tensorflow_text) (2.10)\n",
      "Requirement already satisfied: oauthlib>=3.0.0 in c:\\anaconda\\lib\\site-packages (from requests-oauthlib>=0.7.0->google-auth-oauthlib<0.5,>=0.4.1->tensorboard<2.10,>=2.9->tensorflow<2.10,>=2.9.0; platform_machine != \"arm64\" or platform_system != \"Darwin\"->tensorflow_text) (3.2.0)\n",
      "Requirement already satisfied: pyasn1>=0.1.3 in c:\\anaconda\\lib\\site-packages (from rsa<5,>=3.1.4; python_version >= \"3.6\"->google-auth<3,>=1.6.3->tensorboard<2.10,>=2.9->tensorflow<2.10,>=2.9.0; platform_machine != \"arm64\" or platform_system != \"Darwin\"->tensorflow_text) (0.4.8)\n",
      "Requirement already satisfied: zipp>=0.5 in c:\\anaconda\\lib\\site-packages (from importlib-metadata>=4.4; python_version < \"3.10\"->markdown>=2.6.8->tensorboard<2.10,>=2.9->tensorflow<2.10,>=2.9.0; platform_machine != \"arm64\" or platform_system != \"Darwin\"->tensorflow_text) (3.4.0)\n"
     ]
    }
   ],
   "source": [
    "import sys\n",
    "!{sys.executable} -m pip install tensorflow_text"
   ]
  },
  {
   "cell_type": "code",
   "execution_count": 39,
   "metadata": {},
   "outputs": [],
   "source": [
    "bert_preprocess = hub.KerasLayer(\"https://tfhub.dev/tensorflow/bert_en_uncased_preprocess/3\")\n",
    "bert_encoder = hub.KerasLayer(\"https://tfhub.dev/tensorflow/bert_en_uncased_L-12_H-768_A-12/4\")"
   ]
  },
  {
   "cell_type": "code",
   "execution_count": 38,
   "metadata": {},
   "outputs": [],
   "source": [
    "import tensorflow_hub as hub\n",
    "import tensorflow_text as text"
   ]
  },
  {
   "cell_type": "code",
   "execution_count": 40,
   "metadata": {},
   "outputs": [],
   "source": [
    "text_input = tf.keras.layers.Input(shape=(), dtype=tf.string, name='text')\n",
    "preprocessed_text = bert_preprocess(text_input)\n",
    "outputs = bert_encoder(preprocessed_text)"
   ]
  },
  {
   "cell_type": "code",
   "execution_count": 41,
   "metadata": {},
   "outputs": [],
   "source": [
    "l = tf.keras.layers.Dropout(0.1, name=\"dropout\")(outputs['pooled_output'])\n",
    "l = tf.keras.layers.Dense(1, activation='sigmoid', name=\"output\")(l)"
   ]
  },
  {
   "cell_type": "code",
   "execution_count": 42,
   "metadata": {},
   "outputs": [],
   "source": [
    "model = tf.keras.Model(inputs=[text_input], outputs = [l])"
   ]
  },
  {
   "cell_type": "code",
   "execution_count": 43,
   "metadata": {},
   "outputs": [
    {
     "name": "stdout",
     "output_type": "stream",
     "text": [
      "Model: \"model_1\"\n",
      "__________________________________________________________________________________________________\n",
      " Layer (type)                   Output Shape         Param #     Connected to                     \n",
      "==================================================================================================\n",
      " text (InputLayer)              [(None,)]            0           []                               \n",
      "                                                                                                  \n",
      " keras_layer_2 (KerasLayer)     {'input_mask': (Non  0           ['text[0][0]']                   \n",
      "                                e, 128),                                                          \n",
      "                                 'input_type_ids':                                                \n",
      "                                (None, 128),                                                      \n",
      "                                 'input_word_ids':                                                \n",
      "                                (None, 128)}                                                      \n",
      "                                                                                                  \n",
      " keras_layer_3 (KerasLayer)     {'default': (None,   109482241   ['keras_layer_2[0][0]',          \n",
      "                                768),                             'keras_layer_2[0][1]',          \n",
      "                                 'encoder_outputs':               'keras_layer_2[0][2]']          \n",
      "                                 [(None, 128, 768),                                               \n",
      "                                 (None, 128, 768),                                                \n",
      "                                 (None, 128, 768),                                                \n",
      "                                 (None, 128, 768),                                                \n",
      "                                 (None, 128, 768),                                                \n",
      "                                 (None, 128, 768),                                                \n",
      "                                 (None, 128, 768),                                                \n",
      "                                 (None, 128, 768),                                                \n",
      "                                 (None, 128, 768),                                                \n",
      "                                 (None, 128, 768),                                                \n",
      "                                 (None, 128, 768),                                                \n",
      "                                 (None, 128, 768)],                                               \n",
      "                                 'pooled_output': (                                               \n",
      "                                None, 768),                                                       \n",
      "                                 'sequence_output':                                               \n",
      "                                 (None, 128, 768)}                                                \n",
      "                                                                                                  \n",
      " dropout (Dropout)              (None, 768)          0           ['keras_layer_3[0][13]']         \n",
      "                                                                                                  \n",
      " output (Dense)                 (None, 1)            769         ['dropout[0][0]']                \n",
      "                                                                                                  \n",
      "==================================================================================================\n",
      "Total params: 109,483,010\n",
      "Trainable params: 769\n",
      "Non-trainable params: 109,482,241\n",
      "__________________________________________________________________________________________________\n"
     ]
    }
   ],
   "source": [
    "model.summary()"
   ]
  },
  {
   "cell_type": "code",
   "execution_count": 44,
   "metadata": {},
   "outputs": [],
   "source": [
    "METRICS = [\n",
    "      tf.keras.metrics.BinaryAccuracy(name='accuracy'),\n",
    "      tf.keras.metrics.Precision(name='precision'),\n",
    "      tf.keras.metrics.Recall(name='recall')\n",
    "]\n",
    "\n",
    "model.compile(optimizer='adam',\n",
    " loss='binary_crossentropy',\n",
    " metrics=METRICS)"
   ]
  },
  {
   "cell_type": "code",
   "execution_count": 45,
   "metadata": {},
   "outputs": [],
   "source": [
    "from sklearn.model_selection import train_test_split\n",
    "x = df['Tweet']\n",
    "y = df['pcl']\n",
    "X_train, X_test, y_train, y_test = train_test_split(x, y, train_size = 0.8)"
   ]
  },
  {
   "cell_type": "code",
   "execution_count": 63,
   "metadata": {},
   "outputs": [
    {
     "name": "stdout",
     "output_type": "stream",
     "text": [
      "(2707,)\n",
      "(2707,)\n"
     ]
    }
   ],
   "source": [
    "print(X_train.shape)\n",
    "print(y_train.shape)"
   ]
  },
  {
   "cell_type": "code",
   "execution_count": 46,
   "metadata": {},
   "outputs": [
    {
     "name": "stdout",
     "output_type": "stream",
     "text": [
      "Epoch 1/5\n",
      "85/85 [==============================] - 882s 10s/step - loss: 0.3314 - accuracy: 0.8825 - precision: 0.0521 - recall: 0.0216\n",
      "Epoch 2/5\n",
      "85/85 [==============================] - 845s 10s/step - loss: 0.2779 - accuracy: 0.9139 - precision: 0.0000e+00 - recall: 0.0000e+00\n",
      "Epoch 3/5\n",
      "85/85 [==============================] - 863s 10s/step - loss: 0.2678 - accuracy: 0.9132 - precision: 0.0000e+00 - recall: 0.0000e+00\n",
      "Epoch 4/5\n",
      "85/85 [==============================] - 841s 10s/step - loss: 0.2618 - accuracy: 0.9128 - precision: 0.0000e+00 - recall: 0.0000e+00\n",
      "Epoch 5/5\n",
      "85/85 [==============================] - 844s 10s/step - loss: 0.2575 - accuracy: 0.9132 - precision: 0.2000 - recall: 0.0043\n"
     ]
    },
    {
     "data": {
      "text/plain": [
       "<keras.callbacks.History at 0x249b9801550>"
      ]
     },
     "execution_count": 46,
     "metadata": {},
     "output_type": "execute_result"
    }
   ],
   "source": [
    "model.fit(X_train, y_train, epochs=5)"
   ]
  },
  {
   "cell_type": "code",
   "execution_count": 47,
   "metadata": {},
   "outputs": [
    {
     "name": "stdout",
     "output_type": "stream",
     "text": [
      "22/22 [==============================] - 216s 10s/step\n",
      "0.9364844903988183\n",
      "0.3333333333333333\n",
      "0.023809523809523808\n",
      "0.5057974705033529\n"
     ]
    }
   ],
   "source": [
    "pred = model.predict(X_test)\n",
    "pred = np.round(pred).astype(int)\n",
    "from sklearn import metrics\n",
    "acc_score = metrics.accuracy_score(y_test, pred)\n",
    "precision = metrics.precision_score(y_test, pred,zero_division=1)\n",
    "recall = metrics.recall_score(y_test, pred,zero_division=1)\n",
    "f1_score = metrics.f1_score(y_test, pred, average='macro',zero_division=1)\n",
    "print(acc_score)\n",
    "print(precision)\n",
    "print(recall)\n",
    "print(f1_score)"
   ]
  }
 ],
 "metadata": {
  "kernelspec": {
   "display_name": "Python 3",
   "language": "python",
   "name": "python3"
  },
  "language_info": {
   "codemirror_mode": {
    "name": "ipython",
    "version": 3
   },
   "file_extension": ".py",
   "mimetype": "text/x-python",
   "name": "python",
   "nbconvert_exporter": "python",
   "pygments_lexer": "ipython3",
   "version": "3.8.5"
  }
 },
 "nbformat": 4,
 "nbformat_minor": 4
}
